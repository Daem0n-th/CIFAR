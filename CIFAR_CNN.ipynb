{
 "cells": [
  {
   "cell_type": "code",
   "execution_count": 1,
   "metadata": {},
   "outputs": [],
   "source": [
    "import os\n",
    "import pickle\n",
    "import numpy as np\n",
    "import matplotlib.pyplot as plt\n",
    "import tensorflow as tf\n",
    "CIFAR_DIR='cifar-10-batches-py'\n",
    "%matplotlib inline"
   ]
  },
  {
   "cell_type": "code",
   "execution_count": 2,
   "metadata": {
    "collapsed": true
   },
   "outputs": [],
   "source": [
    "def unpickle(file):\n",
    "    with open(file, 'rb') as fo:\n",
    "        cifar_dict = pickle.load(fo, encoding='bytes')\n",
    "    return cifar_dict"
   ]
  },
  {
   "cell_type": "code",
   "execution_count": 3,
   "metadata": {
    "collapsed": true
   },
   "outputs": [],
   "source": [
    "CIFAR_PATH=['batches.meta','data_batch_1','data_batch_2','data_batch_3','data_batch_4','data_batch_5','test_batch']"
   ]
  },
  {
   "cell_type": "code",
   "execution_count": 4,
   "metadata": {
    "collapsed": true
   },
   "outputs": [],
   "source": [
    "CIFAR_DATA=[]\n",
    "for i in CIFAR_PATH:\n",
    "    file=os.path.join(CIFAR_DIR,i)\n",
    "    CIFAR_DATA.append(unpickle(file))"
   ]
  },
  {
   "cell_type": "code",
   "execution_count": 5,
   "metadata": {
    "collapsed": true
   },
   "outputs": [],
   "source": [
    "def one_hot_encode(val,size=10):\n",
    "    temp=np.zeros(size,dtype='uint8')\n",
    "    temp[val]=1\n",
    "    return temp"
   ]
  },
  {
   "cell_type": "code",
   "execution_count": 6,
   "metadata": {
    "collapsed": true
   },
   "outputs": [],
   "source": [
    "def reshape(img):\n",
    "    return img.reshape(-1,3,32,32).transpose(0,2,3,1).astype('uint8')    "
   ]
  },
  {
   "cell_type": "code",
   "execution_count": 7,
   "metadata": {
    "collapsed": true
   },
   "outputs": [],
   "source": [
    "meta_data=CIFAR_DATA[0]\n",
    "test_data=CIFAR_DATA[-1]\n",
    "all_batches=CIFAR_DATA[1:-1]"
   ]
  },
  {
   "cell_type": "code",
   "execution_count": 8,
   "metadata": {
    "collapsed": true
   },
   "outputs": [],
   "source": [
    "class cifar_train:\n",
    "    def __init__(self):\n",
    "        self.images=np.vstack([reshape(i[b'data']) for i in all_batches])\n",
    "        self.labels=np.hstack([i[b'labels'] for i in all_batches])\n",
    "    def next_batch(self,n):\n",
    "        high=self.images.shape[0]\n",
    "        indices=np.random.randint(0,high,size=n)\n",
    "        return self.images[indices],np.vstack([one_hot_encode(i) for i in self.labels[indices]])\n",
    "class cifar_test:\n",
    "    def __init__(self):\n",
    "        self.images=reshape(test_data[b'data'])\n",
    "        self.labels=np.vstack([one_hot_encode(i) for i in test_data[b'labels']])"
   ]
  },
  {
   "cell_type": "code",
   "execution_count": 9,
   "metadata": {
    "collapsed": true
   },
   "outputs": [],
   "source": [
    "def init_weights(shape):\n",
    "    return tf.Variable(initial_value=tf.truncated_normal(shape=shape,stddev=0.1),dtype=tf.float32)"
   ]
  },
  {
   "cell_type": "code",
   "execution_count": 10,
   "metadata": {
    "collapsed": true
   },
   "outputs": [],
   "source": [
    "def init_bias(shape):\n",
    "    return tf.Variable(tf.constant(value=0.1,shape=shape))"
   ]
  },
  {
   "cell_type": "code",
   "execution_count": 11,
   "metadata": {
    "collapsed": true
   },
   "outputs": [],
   "source": [
    "def conv2d(x,W):\n",
    "    return tf.nn.conv2d(x,W,strides=[1,1,1,1],padding='SAME')"
   ]
  },
  {
   "cell_type": "code",
   "execution_count": 12,
   "metadata": {
    "collapsed": true
   },
   "outputs": [],
   "source": [
    "def pooling(x):\n",
    "    return tf.nn.max_pool(x,ksize=[1,2,2,1],strides=[1,2,2,1],padding='SAME')"
   ]
  },
  {
   "cell_type": "code",
   "execution_count": 13,
   "metadata": {
    "collapsed": true
   },
   "outputs": [],
   "source": [
    "def convolution_layer(x_input,shape):\n",
    "    W=init_weights(shape)\n",
    "    b=init_bias([shape[3]])\n",
    "    return tf.nn.relu(conv2d(x_input,W)+b)"
   ]
  },
  {
   "cell_type": "code",
   "execution_count": 14,
   "metadata": {
    "collapsed": true
   },
   "outputs": [],
   "source": [
    "def dense_layer(input_layer,size):\n",
    "    input_size=int(input_layer.shape[1])\n",
    "    W=init_weights([input_size,size])\n",
    "    b=init_bias([size])\n",
    "    return tf.matmul(input_layer,W)+b"
   ]
  },
  {
   "cell_type": "code",
   "execution_count": 95,
   "metadata": {
    "collapsed": true
   },
   "outputs": [],
   "source": [
    "x_image=tf.placeholder(dtype=tf.float32,shape=[None,32,32,3])\n",
    "y_true=tf.placeholder(dtype=tf.float32,shape=[None,10])\n",
    "hold_prob=tf.placeholder(dtype=tf.float32)"
   ]
  },
  {
   "cell_type": "code",
   "execution_count": 96,
   "metadata": {
    "collapsed": true
   },
   "outputs": [],
   "source": [
    "convo_1 = convolution_layer(x_image,[2,2,3,24])\n",
    "pool_1 = pooling(convo_1)\n",
    "convo_2 = convolution_layer(pool_1,[2,2,24,48])\n",
    "pool_2 = pooling(convo_2)\n",
    "flat_layer = tf.reshape(pool_2,shape=[-1,8*8*48])\n",
    "dense_1 = tf.nn.relu(dense_layer(flat_layer,256))\n",
    "drop_out = tf.nn.dropout(dense_1,keep_prob=hold_prob)\n",
    "y_pred = dense_layer(drop_out,10)"
   ]
  },
  {
   "cell_type": "code",
   "execution_count": 97,
   "metadata": {
    "collapsed": true
   },
   "outputs": [],
   "source": [
    "cross_entropy = tf.reduce_mean(tf.nn.softmax_cross_entropy_with_logits(labels=y_true,logits=y_pred))"
   ]
  },
  {
   "cell_type": "code",
   "execution_count": 102,
   "metadata": {
    "collapsed": true
   },
   "outputs": [],
   "source": [
    "optimizer = tf.train.AdadeltaOptimizer()\n",
    "train = optimizer.minimize(cross_entropy)"
   ]
  },
  {
   "cell_type": "code",
   "execution_count": 103,
   "metadata": {
    "collapsed": true
   },
   "outputs": [],
   "source": [
    "init = tf.global_variables_initializer()"
   ]
  },
  {
   "cell_type": "code",
   "execution_count": 104,
   "metadata": {
    "collapsed": true
   },
   "outputs": [],
   "source": [
    "c_train=cifar_train()\n",
    "c_test=cifar_test()"
   ]
  },
  {
   "cell_type": "code",
   "execution_count": null,
   "metadata": {},
   "outputs": [
    {
     "name": "stdout",
     "output_type": "stream",
     "text": [
      "ACCURACY...\n",
      "0.1027\n"
     ]
    }
   ],
   "source": [
    "steps=5000\n",
    "with tf.Session() as sess:\n",
    "    sess.run(init)\n",
    "    for i in range(steps+1):\n",
    "        x_batch,y_batch = c_train.next_batch(100)\n",
    "        feed = {x_image:x_batch,y_true:y_batch,hold_prob:0.5}\n",
    "        sess.run(train,feed_dict=feed)\n",
    "        #print(i)\n",
    "        if i%500==0:\n",
    "            print(\"ACCURACY...\")\n",
    "            acc=tf.reduce_mean(tf.cast(tf.equal(tf.argmax(y_pred,1),tf.argmax(y_true,1)),dtype=tf.float32))\n",
    "            accuracy=sess.run(acc,feed_dict={x_image:c_test.images,y_true:c_test.labels,hold_prob:1.0})\n",
    "            print(accuracy)"
   ]
  },
  {
   "cell_type": "code",
   "execution_count": null,
   "metadata": {
    "collapsed": true
   },
   "outputs": [],
   "source": []
  }
 ],
 "metadata": {
  "kernelspec": {
   "display_name": "Python 3",
   "language": "python",
   "name": "python3"
  },
  "language_info": {
   "codemirror_mode": {
    "name": "ipython",
    "version": 3
   },
   "file_extension": ".py",
   "mimetype": "text/x-python",
   "name": "python",
   "nbconvert_exporter": "python",
   "pygments_lexer": "ipython3",
   "version": "3.5.4"
  }
 },
 "nbformat": 4,
 "nbformat_minor": 2
}
